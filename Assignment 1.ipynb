{
 "cells": [
  {
   "cell_type": "markdown",
   "id": "867e28d3-a953-4380-b82b-23227f26aed3",
   "metadata": {},
   "source": [
    "Que.1: Explain with an example each when to use a for loop and a while loop."
   ]
  },
  {
   "cell_type": "code",
   "execution_count": 1,
   "id": "39b03f96-0ca1-4a75-8759-a8f048a5c160",
   "metadata": {},
   "outputs": [
    {
     "name": "stdout",
     "output_type": "stream",
     "text": [
      "pen\n",
      "pencil\n",
      "notebook\n",
      "luchbox\n"
     ]
    }
   ],
   "source": [
    "# In Python, a while loop is used to repeatedly execute a block of statements while a condition is true. The loop will continue to run as long as the condition remains true.\n",
    "# In this example here, after declaring the items list we initialize the index with 0 and store the length of the items list in the variable ‘items_len’ after that running a while loop in which\n",
    "# we have given a condition that runs the loop until the value of the index is less than items_len. Inside the while loop, we print the items of the items list using indexing \n",
    "# and increment the value of the index by 1 to iterate over the list. \n",
    "item = [\"pen\",\"pencil\",\"notebook\",\"luchbox\"]\n",
    "index=0\n",
    "item_len=len(item)\n",
    "while index<item_len:\n",
    "    print(item[index])\n",
    "    index=index+1"
   ]
  },
  {
   "cell_type": "code",
   "execution_count": 3,
   "id": "fc2cac3e-8b5f-40cd-8e97-6b3e6f034883",
   "metadata": {},
   "outputs": [
    {
     "name": "stdout",
     "output_type": "stream",
     "text": [
      "pen\n",
      "pencil\n",
      "notebook\n",
      "luchbox\n"
     ]
    }
   ],
   "source": [
    "# In Python, a ‘for loop‘ is used to iterate over a sequence of items, such as a Python tuple, list, string, or range. The loop will execute a block of statements for each item in the sequence.\n",
    "# In the below example, we have created a list of items and then iterate through the list using for loop to print the items in the list.\n",
    "item = [\"pen\",\"pencil\",\"notebook\",\"luchbox\"]\n",
    "for items in item:\n",
    "    print(items)"
   ]
  },
  {
   "cell_type": "markdown",
   "id": "82fac0c7-580c-4bb8-82fc-cbe8f9185738",
   "metadata": {},
   "source": [
    "Que.2: Write a python program to print the sum and product of the first 10 natural numbers using for and while loop."
   ]
  },
  {
   "cell_type": "code",
   "execution_count": 1,
   "id": "fa6ab2b4-5030-4b8f-a0c8-16bc53b48e18",
   "metadata": {},
   "outputs": [
    {
     "name": "stdout",
     "output_type": "stream",
     "text": [
      "The product of first 10 Natural Number is = 3628800\n",
      "Sum of first 10 Natural Number is = 55\n"
     ]
    }
   ],
   "source": [
    "natual_numbers = range(1,11)\n",
    "p = 1\n",
    "n = 0\n",
    "for i in natual_numbers:\n",
    "    n=n+i\n",
    "    p=p*i\n",
    "print(\"The product of first 10 Natural Number is =\",p)\n",
    "print(\"Sum of first 10 Natural Number is =\",n)"
   ]
  },
  {
   "cell_type": "code",
   "execution_count": 5,
   "id": "c238e244-6726-42ce-bba4-1ee88f956342",
   "metadata": {},
   "outputs": [
    {
     "name": "stdout",
     "output_type": "stream",
     "text": [
      "Product of frist ten natural number = 3628800\n"
     ]
    }
   ],
   "source": [
    "natural_numbers = 10\n",
    "product_of_natural_numbers = 1\n",
    "while natural_numbers >0:\n",
    "    product_of_natural_numbers = product_of_natural_numbers*natural_numbers\n",
    "    natural_numbers=natural_numbers-1\n",
    "print(\"Product of frist ten natural number =\",product_of_natural_numbers)"
   ]
  },
  {
   "cell_type": "code",
   "execution_count": 3,
   "id": "02d3259e-8a5c-4848-b06e-0ab37495d4b4",
   "metadata": {},
   "outputs": [
    {
     "name": "stdout",
     "output_type": "stream",
     "text": [
      "Sum of first ten natural number = 55\n"
     ]
    }
   ],
   "source": [
    "natura_number=10\n",
    "starting_point = 0\n",
    "counter= 1\n",
    "while counter <= natura_number:\n",
    "    starting_point=starting_point+counter\n",
    "    counter=counter+1\n",
    "print(\"Sum of first ten natural number =\",starting_point)"
   ]
  },
  {
   "cell_type": "markdown",
   "id": "683bb890-af3a-49d0-b9bc-1766429a51ae",
   "metadata": {},
   "source": [
    "Que.3:Create a python program to compute the electricity bill for a household.The per-unit charges in rupees are as follows: For the first 100 units, the user will be charged Rs. 4.5 perunit, for the next 100 units, the user will be charged Rs. 6 per unit, and for the next 100 units, the user willbe charged Rs. 10 per unit, After 300 units and above the user will be charged Rs. 20 per unit.\n",
    "You are required to take the units of electricity consumed in a month from the user as input.Your program must pass this test case: when the unit of electricity consumed by the user in a month is\n",
    "310, the total electricity bill should be 2250."
   ]
  },
  {
   "cell_type": "code",
   "execution_count": 1,
   "id": "d9a69a04-f721-4ef9-8644-cfdcc000c110",
   "metadata": {},
   "outputs": [
    {
     "name": "stdin",
     "output_type": "stream",
     "text": [
      "The units of electricity consumed in a month 310\n"
     ]
    },
    {
     "name": "stdout",
     "output_type": "stream",
     "text": [
      "Electricity Bill Amount = 2250.0\n"
     ]
    }
   ],
   "source": [
    "units=int(input(\"The units of electricity consumed in a month\"))\n",
    "if (units <= 100):\n",
    "    amount=unit*4.5\n",
    "elif (units <=200):\n",
    "    amount=(100*4.5)+((units-100)*6)\n",
    "elif (units <=300):\n",
    "    amount=(100*4.5)+(100*6)+((units-200)*10)\n",
    "elif (units > 300):\n",
    "    amount=(100*4.5)+(100*6)+(100*10)+((units-300)*20)\n",
    "print(\"Electricity Bill Amount =\",amount)"
   ]
  },
  {
   "cell_type": "markdown",
   "id": "9453771b-72fa-436b-b8f0-e2d93d03df36",
   "metadata": {},
   "source": [
    "Que.4:Create a list of numbers from 1 to 100. Use for loop and while loop to calculate the cube of each\n",
    "number and if the cube of that number is divisible by 4 or 5 then append that number in a list and print\n",
    "that list."
   ]
  },
  {
   "cell_type": "code",
   "execution_count": 11,
   "id": "bc74bfd7-403c-4e6b-80d9-95fb672516df",
   "metadata": {},
   "outputs": [
    {
     "name": "stdout",
     "output_type": "stream",
     "text": [
      "[8, 64, 125, 216, 512, 1000, 1728, 2744, 3375, 4096, 5832, 8000, 10648, 13824, 15625, 17576, 21952, 27000, 32768, 39304, 42875, 46656, 54872, 64000, 74088, 85184, 91125, 97336, 110592, 125000, 140608, 157464, 166375, 175616, 195112, 216000, 238328, 262144, 274625, 287496, 314432, 343000, 373248, 405224, 421875, 438976, 474552, 512000, 551368, 592704, 614125, 636056, 681472, 729000, 778688, 830584, 857375, 884736, 941192, 1000000]\n"
     ]
    }
   ],
   "source": [
    "l = list(range(1,101))\n",
    "List = []\n",
    "for i in l:\n",
    "    cube=i*i*i\n",
    "    if (cube%4==0) or (cube%5==0):\n",
    "        List.append(cube)\n",
    "print(List)\n",
    "        "
   ]
  },
  {
   "cell_type": "code",
   "execution_count": 12,
   "id": "c7b5cbde-a905-4036-a0ef-a31277c2a6f9",
   "metadata": {},
   "outputs": [
    {
     "name": "stdout",
     "output_type": "stream",
     "text": [
      "[8, 64, 125, 216, 512, 1000, 1728, 2744, 3375, 4096, 5832, 8000, 10648, 13824, 15625, 17576, 21952, 27000, 32768, 39304, 42875, 46656, 54872, 64000, 74088, 85184, 91125, 97336, 110592, 125000, 140608, 157464, 166375, 175616, 195112, 216000, 238328, 262144, 274625, 287496, 314432, 343000, 373248, 405224, 421875, 438976, 474552, 512000, 551368, 592704, 614125, 636056, 681472, 729000, 778688, 830584, 857375, 884736, 941192, 1000000]\n"
     ]
    }
   ],
   "source": [
    "s = 1\n",
    "List=[]\n",
    "while s<=100:\n",
    "    cube = s*s*s\n",
    "    if cube%4==0 or cube%5==0:\n",
    "        List.append(cube)\n",
    "    s=s+1\n",
    "print(List)"
   ]
  },
  {
   "cell_type": "markdown",
   "id": "7bd73aab-cb73-472e-a983-e7f5223738d2",
   "metadata": {},
   "source": [
    "Que.5:Write a program to filter count vowels in the below-given string.\n",
    "string = \"I want to become a data scientist\"\n"
   ]
  },
  {
   "cell_type": "code",
   "execution_count": 13,
   "id": "eb6a94af-d4bc-464c-adbf-6cfb2bfbb5eb",
   "metadata": {},
   "outputs": [
    {
     "name": "stdout",
     "output_type": "stream",
     "text": [
      "Number of vowels in given String=  12\n"
     ]
    }
   ],
   "source": [
    "string = \"I want to become a data scientist\"\n",
    "count =0\n",
    "for character in string:\n",
    "    if (character in \"aAeEiIoOuU\"):\n",
    "        count=count+1\n",
    "print(\"Number of vowels in given String= \",count)"
   ]
  },
  {
   "cell_type": "code",
   "execution_count": null,
   "id": "6374098b-30c9-4fbc-acff-77b88242cb51",
   "metadata": {},
   "outputs": [],
   "source": []
  }
 ],
 "metadata": {
  "kernelspec": {
   "display_name": "Python 3 (ipykernel)",
   "language": "python",
   "name": "python3"
  },
  "language_info": {
   "codemirror_mode": {
    "name": "ipython",
    "version": 3
   },
   "file_extension": ".py",
   "mimetype": "text/x-python",
   "name": "python",
   "nbconvert_exporter": "python",
   "pygments_lexer": "ipython3",
   "version": "3.10.8"
  }
 },
 "nbformat": 4,
 "nbformat_minor": 5
}
